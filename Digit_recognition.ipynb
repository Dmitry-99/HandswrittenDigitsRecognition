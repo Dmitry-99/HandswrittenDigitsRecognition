{
 "cells": [
  {
   "cell_type": "code",
   "execution_count": 67,
   "metadata": {},
   "outputs": [],
   "source": [
    "#!pip install tkiner"
   ]
  },
  {
   "cell_type": "code",
   "execution_count": null,
   "metadata": {},
   "outputs": [],
   "source": [
    "#!conda install pytorch torchvision torchaudio cudatoolkit=10.2 -c pytorch"
   ]
  },
  {
   "cell_type": "code",
   "execution_count": 86,
   "metadata": {},
   "outputs": [],
   "source": [
    "# torch.__version__\n",
    "# '1.8.1+cu102'"
   ]
  },
  {
   "cell_type": "markdown",
   "metadata": {},
   "source": [
    "## Распознавание цифр на изображении"
   ]
  },
  {
   "cell_type": "code",
   "execution_count": 11,
   "metadata": {},
   "outputs": [],
   "source": [
    "# trkinter для создания формы\n",
    "from tkinter import *\n",
    "from tkinter import filedialog\n",
    "from PIL import ImageTk, Image\n",
    "from functools import partial\n",
    "\n",
    "# для создания и обучения нейросети\n",
    "import torch\n",
    "import torchvision\n",
    "import torch.nn as nn\n",
    "import torch.nn.functional as F\n",
    "import torch.optim as optim\n",
    "from torchsummary import summary\n",
    "\n",
    "# cv2 для обратки изображений и распознавания объектов\n",
    "import os\n",
    "import cv2\n",
    "import numpy as np\n",
    "import imutils"
   ]
  },
  {
   "cell_type": "code",
   "execution_count": 12,
   "metadata": {},
   "outputs": [
    {
     "data": {
      "text/plain": [
       "'4.5.1'"
      ]
     },
     "execution_count": 12,
     "metadata": {},
     "output_type": "execute_result"
    }
   ],
   "source": [
    "cv2.__version__"
   ]
  },
  {
   "cell_type": "code",
   "execution_count": 3,
   "metadata": {},
   "outputs": [
    {
     "data": {
      "text/plain": [
       "'0.5.4'"
      ]
     },
     "execution_count": 3,
     "metadata": {},
     "output_type": "execute_result"
    }
   ],
   "source": [
    "imutils.__version__"
   ]
  },
  {
   "cell_type": "code",
   "execution_count": 5,
   "metadata": {},
   "outputs": [
    {
     "data": {
      "text/plain": [
       "<torch._C.Generator at 0x23b71829f90>"
      ]
     },
     "execution_count": 5,
     "metadata": {},
     "output_type": "execute_result"
    }
   ],
   "source": [
    "# задаем все необходимые параметры\n",
    "# создаем переменные необходимые для обучения и тестирования нейросети\n",
    "n_epochs = 10 # количество эпох обучения\n",
    "batch_size_train = 64 # размер батча на обучающей выборке\n",
    "batch_size_test = 1000 # размер батча на тестовой выборке\n",
    "learning_rate = 0.01 # шаг обучения\n",
    "momentum = 0.5\n",
    "log_interval = 100 \n",
    "\n",
    "random_seed = 1\n",
    "torch.backends.cudnn.enabled = False\n",
    "torch.manual_seed(random_seed)"
   ]
  },
  {
   "cell_type": "code",
   "execution_count": 6,
   "metadata": {},
   "outputs": [],
   "source": [
    "# загружаем датасет MNIST\n",
    "\n",
    "train_loader = torch.utils.data.DataLoader(\n",
    "  torchvision.datasets.MNIST('/files/', train=True, download=True,\n",
    "                             transform=torchvision.transforms.Compose([\n",
    "                               torchvision.transforms.ToTensor(),\n",
    "                               torchvision.transforms.Normalize(\n",
    "                                 (0.1307,), (0.3081,))\n",
    "                             ])),\n",
    "  batch_size=batch_size_train, shuffle=True)\n",
    "\n",
    "test_loader = torch.utils.data.DataLoader(\n",
    "  torchvision.datasets.MNIST('/files/', train=False, download=True,\n",
    "                             transform=torchvision.transforms.Compose([\n",
    "                               torchvision.transforms.ToTensor(),\n",
    "                               torchvision.transforms.Normalize(\n",
    "                                 (0.1307,), (0.3081,))\n",
    "                             ])),\n",
    "  batch_size=batch_size_test, shuffle=True)"
   ]
  },
  {
   "cell_type": "code",
   "execution_count": 7,
   "metadata": {},
   "outputs": [],
   "source": [
    "examples = enumerate(test_loader)\n",
    "batch_idx, (example_data, example_targets) = next(examples)"
   ]
  },
  {
   "cell_type": "code",
   "execution_count": 10,
   "metadata": {},
   "outputs": [
    {
     "data": {
      "text/plain": [
       "torch.Size([1000, 1, 28, 28])"
      ]
     },
     "execution_count": 10,
     "metadata": {},
     "output_type": "execute_result"
    }
   ],
   "source": [
    "example_data.shape"
   ]
  },
  {
   "cell_type": "markdown",
   "metadata": {},
   "source": [
    "Посмотрим как выглядит один тестовый батч."
   ]
  },
  {
   "cell_type": "code",
   "execution_count": 11,
   "metadata": {},
   "outputs": [
    {
     "data": {
      "image/png": "[encoded data removed]",
      "text/plain": [
       "<Figure size 432x288 with 6 Axes>"
      ]
     },
     "metadata": {},
     "output_type": "display_data"
    }
   ],
   "source": [
    "import matplotlib.pyplot as plt\n",
    "\n",
    "fig = plt.figure()\n",
    "for i in range(6):\n",
    "    plt.subplot(2,3,i+1)\n",
    "    plt.tight_layout()\n",
    "    plt.imshow(example_data[i][0], cmap='gray', interpolation='none')\n",
    "    plt.title(\"Ground Truth: {}\".format(example_targets[i]))\n",
    "    plt.xticks([])\n",
    "    plt.yticks([])\n",
    "plt.show()"
   ]
  },
  {
   "cell_type": "markdown",
   "metadata": {},
   "source": [
    "Создадим простую сеть из двух convolution слоев + MaxPooling + ReLU, слоя dropout и 2 fully-connected слоев. В качестве функции активации на последнем слое используем SoftMax."
   ]
  },
  {
   "cell_type": "code",
   "execution_count": 4,
   "metadata": {},
   "outputs": [],
   "source": [
    "class Net(nn.Module):\n",
    "    def __init__(self):\n",
    "        super(Net, self).__init__()\n",
    "        self.conv1 = nn.Conv2d(1, 10, kernel_size=5)\n",
    "        self.pool1 = nn.MaxPool2d(2)\n",
    "        \n",
    "        self.relu1 = nn.ReLU()\n",
    "        \n",
    "        self.conv2 = nn.Conv2d(10, 20, kernel_size=5)\n",
    "        self.pool2 = nn.MaxPool2d(2)\n",
    "        \n",
    "        self.relu2 = nn.ReLU()\n",
    "        \n",
    "        self.conv2_drop = nn.Dropout2d()\n",
    "        self.fc1 = nn.Linear(320, 50)\n",
    "        self.relu3 = nn.ReLU()\n",
    "        self.fc2 = nn.Linear(50, 10)\n",
    "\n",
    "    def forward(self, x):\n",
    "        conv1 = self.conv1(x)\n",
    "        x = self.pool1(conv1)\n",
    "        x = self.relu1(x)\n",
    "        \n",
    "        conv2 = self.conv2(x)\n",
    "        x = self.pool2(conv2)\n",
    "        x = self.relu2(x)\n",
    "        #x = F.relu(F.max_pool2d(self.conv2_drop(self.conv2(x)), 2))\n",
    "        \n",
    "        x = x.view(-1, 320)\n",
    "        x = self.relu3(self.fc1(x))\n",
    "        x = F.dropout(x, training=self.training)\n",
    "        x = self.fc2(x)\n",
    "        return F.log_softmax(x)"
   ]
  },
  {
   "cell_type": "markdown",
   "metadata": {},
   "source": [
    "Инициализируем сеть и оптимизатор. В качестве оптимизатора используем SGD, внутрь которого подадим параметры модели, а также learning rate, с которым сеть будет обучаться."
   ]
  },
  {
   "cell_type": "code",
   "execution_count": 13,
   "metadata": {},
   "outputs": [],
   "source": [
    "net = Net()\n",
    "optimizer = optim.SGD(net.parameters(), lr=learning_rate, momentum=momentum)"
   ]
  },
  {
   "cell_type": "code",
   "execution_count": 14,
   "metadata": {},
   "outputs": [
    {
     "name": "stderr",
     "output_type": "stream",
     "text": [
      "C:\\Users\\Dmitry\\Anaconda\\lib\\site-packages\\ipykernel_launcher.py:33: UserWarning: Implicit dimension choice for log_softmax has been deprecated. Change the call to include dim=X as an argument.\n"
     ]
    },
    {
     "name": "stdout",
     "output_type": "stream",
     "text": [
      "----------------------------------------------------------------\n",
      "        Layer (type)               Output Shape         Param #\n",
      "================================================================\n",
      "            Conv2d-1           [-1, 10, 24, 24]             260\n",
      "         MaxPool2d-2           [-1, 10, 12, 12]               0\n",
      "              ReLU-3           [-1, 10, 12, 12]               0\n",
      "            Conv2d-4             [-1, 20, 8, 8]           5,020\n",
      "         MaxPool2d-5             [-1, 20, 4, 4]               0\n",
      "              ReLU-6             [-1, 20, 4, 4]               0\n",
      "            Linear-7                   [-1, 50]          16,050\n",
      "              ReLU-8                   [-1, 50]               0\n",
      "            Linear-9                   [-1, 10]             510\n",
      "================================================================\n",
      "Total params: 21,840\n",
      "Trainable params: 21,840\n",
      "Non-trainable params: 0\n",
      "----------------------------------------------------------------\n",
      "Input size (MB): 0.00\n",
      "Forward/backward pass size (MB): 0.08\n",
      "Params size (MB): 0.08\n",
      "Estimated Total Size (MB): 0.17\n",
      "----------------------------------------------------------------\n"
     ]
    }
   ],
   "source": [
    "# посмотрим на структуру модели\n",
    "summary(net.cuda(), (1, 28, 28))"
   ]
  },
  {
   "cell_type": "markdown",
   "metadata": {},
   "source": [
    "**Обучение**"
   ]
  },
  {
   "cell_type": "code",
   "execution_count": 136,
   "metadata": {},
   "outputs": [],
   "source": [
    "# дополнительные массивы для вывода графика\n",
    "train_losses = []\n",
    "train_counter = []\n",
    "test_losses = []\n",
    "test_counter = [i*len(train_loader.dataset) for i in range(n_epochs)]"
   ]
  },
  {
   "cell_type": "code",
   "execution_count": 138,
   "metadata": {},
   "outputs": [],
   "source": [
    "# функция для обучения модели\n",
    "def train(epoch):\n",
    "    net.train() # сеть переходит в режим обучения\n",
    "    for batch_idx, (data, target) in enumerate(train_loader): # проходим по данным\n",
    "        optimizer.zero_grad()\n",
    "        output = net(data)\n",
    "        loss = F.nll_loss(output, target) # находим ошибку между предсказанным значением и известным\n",
    "        loss.backward() # метод обратного распространения ошибки\n",
    "        optimizer.step()\n",
    "        \n",
    "        if batch_idx % log_interval == 0:\n",
    "            print('Train Epoch: {} [{}/{} ({:.0f}%)]\\tLoss: {:.6f}'.format(\n",
    "            epoch, batch_idx * len(data), len(train_loader.dataset),\n",
    "            100. * batch_idx / len(train_loader), loss.item()))\n",
    "            \n",
    "            train_losses.append(loss.item())\n",
    "            train_counter.append((batch_idx*64) + ((epoch-1)*len(train_loader.dataset)))\n",
    "            \n",
    "    try:\n",
    "        os.mkdir('results')\n",
    "    except:\n",
    "        pass\n",
    "    torch.save(net.state_dict(), 'results/model.pth')\n",
    "    torch.save(optimizer.state_dict(), 'results/optimizer.pth')"
   ]
  },
  {
   "cell_type": "code",
   "execution_count": 14,
   "metadata": {},
   "outputs": [],
   "source": [
    "# функция для тестирования модели\n",
    "def test():\n",
    "    net.eval()\n",
    "    test_loss = 0\n",
    "    correct = 0\n",
    "    with torch.no_grad():\n",
    "        for data, target in test_loader:\n",
    "            output = net(data)\n",
    "            test_loss += F.nll_loss(output, target, size_average=False).item()\n",
    "            pred = output.data.max(1, keepdim=True)[1] # находим индекс наибольшей вероятности принадлежности цифры к одному из классов\n",
    "            correct += pred.eq(target.data.view_as(pred)).sum()\n",
    "    test_loss /= len(test_loader.dataset)\n",
    "    test_losses.append(test_loss)\n",
    "    print('\\nTest set: Avg. loss: {:.4f}, Accuracy: {}/{} ({:.0f}%)\\n'.format(\n",
    "    test_loss, correct, len(test_loader.dataset),\n",
    "    100. * correct / len(test_loader.dataset)))"
   ]
  },
  {
   "cell_type": "markdown",
   "metadata": {},
   "source": [
    "Запустим обучение."
   ]
  },
  {
   "cell_type": "code",
   "execution_count": 141,
   "metadata": {},
   "outputs": [
    {
     "name": "stderr",
     "output_type": "stream",
     "text": [
      "C:\\Users\\Dmitry\\Anaconda\\lib\\site-packages\\ipykernel_launcher.py:33: UserWarning: Implicit dimension choice for log_softmax has been deprecated. Change the call to include dim=X as an argument.\n"
     ]
    },
    {
     "name": "stdout",
     "output_type": "stream",
     "text": [
      "Train Epoch: 1 [0/60000 (0%)]\tLoss: 2.322691\n",
      "Train Epoch: 1 [6400/60000 (11%)]\tLoss: 1.870071\n",
      "Train Epoch: 1 [12800/60000 (21%)]\tLoss: 0.831520\n",
      "Train Epoch: 1 [19200/60000 (32%)]\tLoss: 0.674736\n",
      "Train Epoch: 1 [25600/60000 (43%)]\tLoss: 0.275705\n",
      "Train Epoch: 1 [32000/60000 (53%)]\tLoss: 0.736594\n",
      "Train Epoch: 1 [38400/60000 (64%)]\tLoss: 0.475370\n",
      "Train Epoch: 1 [44800/60000 (75%)]\tLoss: 0.350001\n",
      "Train Epoch: 1 [51200/60000 (85%)]\tLoss: 0.334477\n",
      "Train Epoch: 1 [57600/60000 (96%)]\tLoss: 0.329610\n"
     ]
    },
    {
     "name": "stderr",
     "output_type": "stream",
     "text": [
      "C:\\Users\\Dmitry\\Anaconda\\lib\\site-packages\\torch\\nn\\_reduction.py:42: UserWarning: size_average and reduce args will be deprecated, please use reduction='sum' instead.\n",
      "  warnings.warn(warning.format(ret))\n"
     ]
    },
    {
     "name": "stdout",
     "output_type": "stream",
     "text": [
      "\n",
      "Test set: Avg. loss: 0.1312, Accuracy: 9604/10000 (96%)\n",
      "\n",
      "Train Epoch: 2 [0/60000 (0%)]\tLoss: 0.409555\n",
      "Train Epoch: 2 [6400/60000 (11%)]\tLoss: 0.432450\n",
      "Train Epoch: 2 [12800/60000 (21%)]\tLoss: 0.377096\n",
      "Train Epoch: 2 [19200/60000 (32%)]\tLoss: 0.439671\n",
      "Train Epoch: 2 [25600/60000 (43%)]\tLoss: 0.237846\n",
      "Train Epoch: 2 [32000/60000 (53%)]\tLoss: 0.228680\n",
      "Train Epoch: 2 [38400/60000 (64%)]\tLoss: 0.329572\n",
      "Train Epoch: 2 [44800/60000 (75%)]\tLoss: 0.228428\n",
      "Train Epoch: 2 [51200/60000 (85%)]\tLoss: 0.225818\n",
      "Train Epoch: 2 [57600/60000 (96%)]\tLoss: 0.194295\n",
      "\n",
      "Test set: Avg. loss: 0.0876, Accuracy: 9731/10000 (97%)\n",
      "\n",
      "Train Epoch: 3 [0/60000 (0%)]\tLoss: 0.200874\n",
      "Train Epoch: 3 [6400/60000 (11%)]\tLoss: 0.188618\n",
      "Train Epoch: 3 [12800/60000 (21%)]\tLoss: 0.210214\n",
      "Train Epoch: 3 [19200/60000 (32%)]\tLoss: 0.265255\n",
      "Train Epoch: 3 [25600/60000 (43%)]\tLoss: 0.324447\n",
      "Train Epoch: 3 [32000/60000 (53%)]\tLoss: 0.145656\n",
      "Train Epoch: 3 [38400/60000 (64%)]\tLoss: 0.190416\n",
      "Train Epoch: 3 [44800/60000 (75%)]\tLoss: 0.307995\n",
      "Train Epoch: 3 [51200/60000 (85%)]\tLoss: 0.322107\n",
      "Train Epoch: 3 [57600/60000 (96%)]\tLoss: 0.172799\n",
      "\n",
      "Test set: Avg. loss: 0.0734, Accuracy: 9765/10000 (98%)\n",
      "\n",
      "Train Epoch: 4 [0/60000 (0%)]\tLoss: 0.348432\n",
      "Train Epoch: 4 [6400/60000 (11%)]\tLoss: 0.194974\n",
      "Train Epoch: 4 [12800/60000 (21%)]\tLoss: 0.171800\n",
      "Train Epoch: 4 [19200/60000 (32%)]\tLoss: 0.158889\n",
      "Train Epoch: 4 [25600/60000 (43%)]\tLoss: 0.062216\n",
      "Train Epoch: 4 [32000/60000 (53%)]\tLoss: 0.068346\n",
      "Train Epoch: 4 [38400/60000 (64%)]\tLoss: 0.106865\n",
      "Train Epoch: 4 [44800/60000 (75%)]\tLoss: 0.094694\n",
      "Train Epoch: 4 [51200/60000 (85%)]\tLoss: 0.156171\n",
      "Train Epoch: 4 [57600/60000 (96%)]\tLoss: 0.191324\n",
      "\n",
      "Test set: Avg. loss: 0.0543, Accuracy: 9825/10000 (98%)\n",
      "\n",
      "Train Epoch: 5 [0/60000 (0%)]\tLoss: 0.047396\n",
      "Train Epoch: 5 [6400/60000 (11%)]\tLoss: 0.211296\n",
      "Train Epoch: 5 [12800/60000 (21%)]\tLoss: 0.228892\n",
      "Train Epoch: 5 [19200/60000 (32%)]\tLoss: 0.222641\n",
      "Train Epoch: 5 [25600/60000 (43%)]\tLoss: 0.197295\n",
      "Train Epoch: 5 [32000/60000 (53%)]\tLoss: 0.091126\n",
      "Train Epoch: 5 [38400/60000 (64%)]\tLoss: 0.266243\n",
      "Train Epoch: 5 [44800/60000 (75%)]\tLoss: 0.267119\n",
      "Train Epoch: 5 [51200/60000 (85%)]\tLoss: 0.271788\n",
      "Train Epoch: 5 [57600/60000 (96%)]\tLoss: 0.305626\n",
      "\n",
      "Test set: Avg. loss: 0.0503, Accuracy: 9837/10000 (98%)\n",
      "\n",
      "Train Epoch: 6 [0/60000 (0%)]\tLoss: 0.145677\n",
      "Train Epoch: 6 [6400/60000 (11%)]\tLoss: 0.120898\n",
      "Train Epoch: 6 [12800/60000 (21%)]\tLoss: 0.074199\n",
      "Train Epoch: 6 [19200/60000 (32%)]\tLoss: 0.169595\n",
      "Train Epoch: 6 [25600/60000 (43%)]\tLoss: 0.181521\n",
      "Train Epoch: 6 [32000/60000 (53%)]\tLoss: 0.088142\n",
      "Train Epoch: 6 [38400/60000 (64%)]\tLoss: 0.111669\n",
      "Train Epoch: 6 [44800/60000 (75%)]\tLoss: 0.035829\n",
      "Train Epoch: 6 [51200/60000 (85%)]\tLoss: 0.094411\n",
      "Train Epoch: 6 [57600/60000 (96%)]\tLoss: 0.045564\n",
      "\n",
      "Test set: Avg. loss: 0.0454, Accuracy: 9854/10000 (99%)\n",
      "\n",
      "Train Epoch: 7 [0/60000 (0%)]\tLoss: 0.073065\n",
      "Train Epoch: 7 [6400/60000 (11%)]\tLoss: 0.147869\n",
      "Train Epoch: 7 [12800/60000 (21%)]\tLoss: 0.177497\n",
      "Train Epoch: 7 [19200/60000 (32%)]\tLoss: 0.107846\n",
      "Train Epoch: 7 [25600/60000 (43%)]\tLoss: 0.035683\n",
      "Train Epoch: 7 [32000/60000 (53%)]\tLoss: 0.055191\n",
      "Train Epoch: 7 [38400/60000 (64%)]\tLoss: 0.031421\n",
      "Train Epoch: 7 [44800/60000 (75%)]\tLoss: 0.077142\n",
      "Train Epoch: 7 [51200/60000 (85%)]\tLoss: 0.074713\n",
      "Train Epoch: 7 [57600/60000 (96%)]\tLoss: 0.134798\n",
      "\n",
      "Test set: Avg. loss: 0.0430, Accuracy: 9859/10000 (99%)\n",
      "\n",
      "Train Epoch: 8 [0/60000 (0%)]\tLoss: 0.266015\n",
      "Train Epoch: 8 [6400/60000 (11%)]\tLoss: 0.121305\n",
      "Train Epoch: 8 [12800/60000 (21%)]\tLoss: 0.182274\n",
      "Train Epoch: 8 [19200/60000 (32%)]\tLoss: 0.041341\n",
      "Train Epoch: 8 [25600/60000 (43%)]\tLoss: 0.130166\n",
      "Train Epoch: 8 [32000/60000 (53%)]\tLoss: 0.065140\n",
      "Train Epoch: 8 [38400/60000 (64%)]\tLoss: 0.031282\n",
      "Train Epoch: 8 [44800/60000 (75%)]\tLoss: 0.065045\n",
      "Train Epoch: 8 [51200/60000 (85%)]\tLoss: 0.139566\n",
      "Train Epoch: 8 [57600/60000 (96%)]\tLoss: 0.103134\n",
      "\n",
      "Test set: Avg. loss: 0.0376, Accuracy: 9872/10000 (99%)\n",
      "\n",
      "Train Epoch: 9 [0/60000 (0%)]\tLoss: 0.021575\n",
      "Train Epoch: 9 [6400/60000 (11%)]\tLoss: 0.097826\n",
      "Train Epoch: 9 [12800/60000 (21%)]\tLoss: 0.110467\n",
      "Train Epoch: 9 [19200/60000 (32%)]\tLoss: 0.165209\n",
      "Train Epoch: 9 [25600/60000 (43%)]\tLoss: 0.139103\n",
      "Train Epoch: 9 [32000/60000 (53%)]\tLoss: 0.068754\n",
      "Train Epoch: 9 [38400/60000 (64%)]\tLoss: 0.270573\n",
      "Train Epoch: 9 [44800/60000 (75%)]\tLoss: 0.200558\n",
      "Train Epoch: 9 [51200/60000 (85%)]\tLoss: 0.057111\n",
      "Train Epoch: 9 [57600/60000 (96%)]\tLoss: 0.062871\n",
      "\n",
      "Test set: Avg. loss: 0.0353, Accuracy: 9887/10000 (99%)\n",
      "\n",
      "Train Epoch: 10 [0/60000 (0%)]\tLoss: 0.056697\n",
      "Train Epoch: 10 [6400/60000 (11%)]\tLoss: 0.100338\n",
      "Train Epoch: 10 [12800/60000 (21%)]\tLoss: 0.019169\n",
      "Train Epoch: 10 [19200/60000 (32%)]\tLoss: 0.109800\n",
      "Train Epoch: 10 [25600/60000 (43%)]\tLoss: 0.029022\n",
      "Train Epoch: 10 [32000/60000 (53%)]\tLoss: 0.035317\n",
      "Train Epoch: 10 [38400/60000 (64%)]\tLoss: 0.078245\n",
      "Train Epoch: 10 [44800/60000 (75%)]\tLoss: 0.121945\n",
      "Train Epoch: 10 [51200/60000 (85%)]\tLoss: 0.230801\n",
      "Train Epoch: 10 [57600/60000 (96%)]\tLoss: 0.070151\n",
      "\n",
      "Test set: Avg. loss: 0.0350, Accuracy: 9887/10000 (99%)\n",
      "\n"
     ]
    }
   ],
   "source": [
    "#net = net.to('cpu')\n",
    "#for epoch in range(1, n_epochs + 1):\n",
    "#    train(epoch)\n",
    "#    test()"
   ]
  },
  {
   "cell_type": "code",
   "execution_count": 142,
   "metadata": {
    "scrolled": true
   },
   "outputs": [
    {
     "data": {
      "text/plain": [
       "10"
      ]
     },
     "execution_count": 142,
     "metadata": {},
     "output_type": "execute_result"
    }
   ],
   "source": [
    "len(test_losses)"
   ]
  },
  {
   "cell_type": "code",
   "execution_count": 143,
   "metadata": {},
   "outputs": [
    {
     "data": {
      "text/plain": [
       "10"
      ]
     },
     "execution_count": 143,
     "metadata": {},
     "output_type": "execute_result"
    }
   ],
   "source": [
    "len(test_counter)"
   ]
  },
  {
   "cell_type": "markdown",
   "metadata": {},
   "source": [
    "Посмотрим на результат обучения - выведем график ошибки."
   ]
  },
  {
   "cell_type": "code",
   "execution_count": 145,
   "metadata": {},
   "outputs": [
    {
     "data": {
      "image/png": "[encoded data removed]",
      "text/plain": [
       "<Figure size 432x288 with 1 Axes>"
      ]
     },
     "metadata": {
      "needs_background": "light"
     },
     "output_type": "display_data"
    }
   ],
   "source": [
    "fig = plt.figure()\n",
    "plt.plot(train_counter, train_losses, color='blue')\n",
    "plt.scatter(test_counter, test_losses, color='red')\n",
    "plt.legend(['Train Loss', 'Test Loss'], loc='upper right')\n",
    "plt.xlabel('number of training examples seen')\n",
    "plt.ylabel('negative log likelihood loss')\n",
    "plt.show()"
   ]
  },
  {
   "cell_type": "markdown",
   "metadata": {},
   "source": [
    "**Посмотрим на результат обучения - сделаем предсказание для нескольких изображений.**"
   ]
  },
  {
   "cell_type": "code",
   "execution_count": 15,
   "metadata": {},
   "outputs": [
    {
     "name": "stderr",
     "output_type": "stream",
     "text": [
      "C:\\Users\\Dmitry\\Anaconda\\lib\\site-packages\\ipykernel_launcher.py:33: UserWarning: Implicit dimension choice for log_softmax has been deprecated. Change the call to include dim=X as an argument.\n"
     ]
    },
    {
     "data": {
      "image/png": "[encoded data removed]",
      "text/plain": [
       "<Figure size 432x288 with 6 Axes>"
      ]
     },
     "metadata": {},
     "output_type": "display_data"
    }
   ],
   "source": [
    "net = Net()\n",
    "state = torch.load(\"results/model.pth\")\n",
    "\n",
    "net.load_state_dict(state)\n",
    "net.eval()\n",
    "\n",
    "#with torch.no_grad():\n",
    "output = net(example_data)\n",
    "\n",
    "fig = plt.figure()\n",
    "for i in range(6):\n",
    "    plt.subplot(2,3,i+1)\n",
    "    plt.tight_layout()\n",
    "    plt.imshow(example_data[i][0], cmap='gray', interpolation='none')\n",
    "    plt.title(\"Prediction: {}\".format(\n",
    "    output.data.max(1, keepdim=True)[1][i].item()))\n",
    "    plt.xticks([])\n",
    "    plt.yticks([])\n",
    "plt.show()"
   ]
  },
  {
   "cell_type": "markdown",
   "metadata": {},
   "source": [
    "# Распознавание на реальной фотографии"
   ]
  },
  {
   "cell_type": "code",
   "execution_count": 5,
   "metadata": {},
   "outputs": [],
   "source": [
    "def recognize(path):\n",
    "\n",
    "    #читаем изображение\n",
    "    img = cv2.imread(path)\n",
    "    img = imutils.resize(img,width=300)\n",
    "    \n",
    "    #преобразуем изображение из RGB в Gray \n",
    "    gray = cv2.cvtColor(img,cv2.COLOR_BGR2GRAY)\n",
    "\n",
    "    #создаем матрицу\n",
    "    kernel = np.ones((40,40),np.uint8)\n",
    "\n",
    "    #создаем границу, с помощью которой будем отделять цифру от всего остального\n",
    "    blackhat = cv2.morphologyEx(gray,cv2.MORPH_BLACKHAT,kernel)\n",
    "    ret,thresh = cv2.threshold(blackhat,0,255,cv2.THRESH_BINARY+cv2.THRESH_OTSU)\n",
    "    opening = cv2.morphologyEx(thresh, cv2.MORPH_OPEN, kernel)\n",
    "\n",
    "    #находим с помощью границы контуры изображения\n",
    "    _,cnts,hie = cv2.findContours(thresh.copy(),cv2.RETR_EXTERNAL,cv2.CHAIN_APPROX_SIMPLE)\n",
    "\n",
    "    #загружаем обученную нейросеть\n",
    "    net = Net()\n",
    "    state = torch.load(\"results/model.pth\")\n",
    "    net.load_state_dict(state)\n",
    "    net.eval()\n",
    "    \n",
    "    # для каждого найденного контура цифры\n",
    "    for c in cnts:\n",
    "        #создаем маску\n",
    "        mask = np.zeros(gray.shape,dtype=\"uint8\")\n",
    "        # получаем границы контура\n",
    "        (x,y,w,h) = cv2.boundingRect(c)\n",
    "\n",
    "        # находим многоугольник внутри которого расположена цифра\n",
    "        hull = cv2.convexHull(c) \n",
    "        cv2.drawContours(mask,[hull],-1,255,-1) \n",
    "        # побитовое умножение изображения на фильтр (получаем ч/б изображение)\n",
    "        mask = cv2.bitwise_and(thresh,thresh,mask=mask)\n",
    "\n",
    "        #находим Region of interest\n",
    "        roi = mask[y-7:y+h+7,x-7:x+w+7] \n",
    "        if roi.shape[0] == 0 or roi.shape[1] == 0:\n",
    "            continue\n",
    "\n",
    "        # изменяем размер изображение на 28х28\n",
    "        roi = cv2.resize(roi,(28,28))\n",
    "        roi = np.array(roi)\n",
    "        #изменяем размер матрицы до того размера, который может принять модель\n",
    "        roi = torch.Tensor(roi)\n",
    "\n",
    "        #делаем предсказание\n",
    "        prediction = net(roi.reshape(1,1,28,28)).detach().numpy()\n",
    "\n",
    "        # рисуем область изображения (зеленый прямоугольник) и рисуем цифру\n",
    "        cv2.rectangle(img,(x,y),(x+w,y+h),(0,255,0),1)\n",
    "        cv2.putText(img,str(int(np.argmax(prediction))),(x,y),cv2.FONT_HERSHEY_SIMPLEX,0.8,(255,0,0),1)\n",
    "\n",
    "\n",
    "    img = imutils.resize(img,width=500)\n",
    "    cv2.imwrite('result.jpg',img)\n",
    "    \n",
    "    # выводим изображение на форму\n",
    "    img = Image.open('result.jpg')\n",
    "    img = img.resize((300, 250), Image.ANTIALIAS)\n",
    "    img = ImageTk.PhotoImage(img)\n",
    "    panel = Label(root, image=img)\n",
    "    panel.image = img\n",
    "    panel.place(x=400, y=90)"
   ]
  },
  {
   "cell_type": "code",
   "execution_count": 6,
   "metadata": {},
   "outputs": [
    {
     "name": "stderr",
     "output_type": "stream",
     "text": [
      "Exception in Tkinter callback\n",
      "Traceback (most recent call last):\n",
      "  File \"C:\\Users\\Dmitry\\Anaconda\\lib\\tkinter\\__init__.py\", line 1705, in __call__\n",
      "    return self.func(*args)\n",
      "  File \"<ipython-input-5-d6b7e055a32b>\", line 19, in recognize\n",
      "    _,cnts,hie = cv2.findContours(thresh.copy(),cv2.RETR_EXTERNAL,cv2.CHAIN_APPROX_SIMPLE)\n",
      "ValueError: not enough values to unpack (expected 3, got 2)\n"
     ]
    }
   ],
   "source": [
    "# функция для открытия изображения из проводника\n",
    "def openfn():\n",
    "    filename = filedialog.askopenfilename(title='open')\n",
    "    return filename\n",
    "\n",
    "# функция, которая загружает изображение и выводит на форму\n",
    "def open_img(btn_rec):\n",
    "    path = openfn()\n",
    "    img = Image.open(path)\n",
    "    img = img.resize((300, 250), Image.ANTIALIAS)\n",
    "    img = ImageTk.PhotoImage(img)\n",
    "    panel = Label(root, image=img)\n",
    "    panel.image = img\n",
    "    panel.place(x=20, y=90)\n",
    "    #return path\n",
    "    btn_rec['command'] = partial(recognize, path)\n",
    "    \n",
    "    \n",
    "# создаем форму\n",
    "root = Tk() \n",
    "  \n",
    "# задаем размер формы и заголовок            \n",
    "root.geometry('740x400')     \n",
    "root.resizable(width='false', height='false')\n",
    "root.title(\"РО МО-41* Кистанова Д.\") \n",
    "  \n",
    "# создаем необходимые элементы формы\n",
    "btn_recognize = Button(root, text='Распознать цифры')\n",
    "btn_load_img = Button(root, text = 'Загрузить изображение', command = partial(open_img, btn_recognize))\n",
    "label = Label(root, text=\"Добро пожаловать в программу по распознаванию цифр на изображении!\").place(x=165,y=10)\n",
    "  \n",
    "# размещаем кнопки на форме\n",
    "btn_load_img.place(x=225, y=50)\n",
    "btn_recognize.place(x=420, y = 50)\n",
    "\n",
    "  \n",
    "root.mainloop()"
   ]
  },
  {
   "cell_type": "code",
   "execution_count": null,
   "metadata": {},
   "outputs": [],
   "source": []
  }
 ],
 "metadata": {
  "kernelspec": {
   "display_name": "Python 3",
   "language": "python",
   "name": "python3"
  },
  "language_info": {
   "codemirror_mode": {
    "name": "ipython",
    "version": 3
   },
   "file_extension": ".py",
   "mimetype": "text/x-python",
   "name": "python",
   "nbconvert_exporter": "python",
   "pygments_lexer": "ipython3",
   "version": "3.7.6"
  }
 },
 "nbformat": 4,
 "nbformat_minor": 4
}
